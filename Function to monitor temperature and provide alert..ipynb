{
  "nbformat": 4,
  "nbformat_minor": 0,
  "metadata": {
    "colab": {
      "provenance": []
    },
    "kernelspec": {
      "name": "python3",
      "display_name": "Python 3"
    },
    "language_info": {
      "name": "python"
    }
  },
  "cells": [
    {
      "cell_type": "code",
      "execution_count": 1,
      "metadata": {
        "colab": {
          "base_uri": "https://localhost:8080/"
        },
        "id": "QNs_eIJL-zW_",
        "outputId": "e344de37-2ec3-4143-d20d-2506e34d6c50"
      },
      "outputs": [
        {
          "output_type": "stream",
          "name": "stdout",
          "text": [
            "Temperature Monitoring Loop:\n",
            "Temperature is normal: 24.5°C\n",
            "Temperature is normal: 25.2°C\n",
            "ALERT! Temperature exceeded threshold: 27.8°C\n",
            "Temperature is normal: 23.0°C\n",
            "ALERT! Temperature exceeded threshold: 30.0°C\n"
          ]
        }
      ],
      "source": [
        "#Develop a function to monitor temperature and provide alert\n",
        "import time\n",
        "\n",
        "def monitor_temperature_loop(temp_list, threshold):\n",
        "    print(\"Temperature Monitoring Loop:\")\n",
        "    for temp in temp_list:\n",
        "        if temp > threshold:\n",
        "            print(f\"ALERT! Temperature exceeded threshold: {temp}°C\")\n",
        "        else:\n",
        "            print(f\"Temperature is normal: {temp}°C\")\n",
        "        time.sleep(1)\n",
        "temperature_readings = [24.5, 25.2, 27.8, 23.0, 30.0]\n",
        "alert_threshold = 26.0\n",
        "\n",
        "monitor_temperature_loop(temperature_readings, alert_threshold)"
      ]
    }
  ]
}